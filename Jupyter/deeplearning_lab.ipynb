{
 "cells": [
  {
   "cell_type": "code",
   "execution_count": 1,
   "id": "fc156aa9-ec08-4865-8128-627cc10331b9",
   "metadata": {},
   "outputs": [
    {
     "name": "stdout",
     "output_type": "stream",
     "text": [
      "[1 2 3 4]\n",
      "[[ 0.35682894]\n",
      " [ 1.3852229 ]\n",
      " [ 0.97493028]\n",
      " [-0.33279125]\n",
      " [ 0.8605794 ]]\n"
     ]
    }
   ],
   "source": [
    "import numpy as np\n",
    "a=np.array([1,2,3,4])\n",
    "b = np.random.randn(5,1)\n",
    "print(a)\n",
    "print(b)"
   ]
  },
  {
   "cell_type": "code",
   "execution_count": 3,
   "id": "aa1d2aaf-af20-40b5-ae3a-a60105c09d7c",
   "metadata": {},
   "outputs": [
    {
     "data": {
      "text/plain": [
       "<module 'numpy.random' from '/home/charlou/.local/lib/python3.10/site-packages/numpy/random/__init__.py'>"
      ]
     },
     "execution_count": 3,
     "metadata": {},
     "output_type": "execute_result"
    }
   ],
   "source": [
    "np.random"
   ]
  },
  {
   "cell_type": "code",
   "execution_count": null,
   "id": "36f43f8a-8d91-499a-aa79-a807e51f06e3",
   "metadata": {},
   "outputs": [],
   "source": []
  }
 ],
 "metadata": {
  "kernelspec": {
   "display_name": "Python 3 (ipykernel)",
   "language": "python",
   "name": "python3"
  }
 },
 "nbformat": 4,
 "nbformat_minor": 5
}
